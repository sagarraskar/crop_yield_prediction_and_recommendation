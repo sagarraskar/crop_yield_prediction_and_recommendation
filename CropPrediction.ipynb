{
 "cells": [
  {
   "cell_type": "markdown",
   "metadata": {},
   "source": [
    "# Import Libraries"
   ]
  },
  {
   "cell_type": "code",
   "execution_count": 1,
   "metadata": {},
   "outputs": [],
   "source": [
    "import os\n",
    "import settings\n",
    "import pandas as pd\n",
    "import numpy as np\n",
    "from matplotlib import pyplot as plt"
   ]
  },
  {
   "cell_type": "markdown",
   "metadata": {},
   "source": [
    "# crop production dataset"
   ]
  },
  {
   "cell_type": "code",
   "execution_count": 2,
   "metadata": {},
   "outputs": [
    {
     "data": {
      "text/plain": [
       "array(['Andaman and Nicobar Islands', 'Andhra Pradesh',\n",
       "       'Arunachal Pradesh', 'Assam', 'Bihar', 'Chandigarh',\n",
       "       'Chhattisgarh', 'Dadra and Nagar Haveli', 'Goa', 'Gujarat',\n",
       "       'Haryana', 'Himachal Pradesh', 'Jammu and Kashmir ', 'Jharkhand',\n",
       "       'Karnataka', 'Kerala', 'Madhya Pradesh', 'Maharashtra', 'Manipur',\n",
       "       'Meghalaya', 'Mizoram', 'Nagaland', 'Odisha', 'Puducherry',\n",
       "       'Punjab', 'Rajasthan', 'Sikkim', 'Tamil Nadu', 'Telangana ',\n",
       "       'Tripura', 'Uttar Pradesh', 'Uttarakhand', 'West Bengal'],\n",
       "      dtype=object)"
      ]
     },
     "execution_count": 2,
     "metadata": {},
     "output_type": "execute_result"
    }
   ],
   "source": [
    "df1 = pd.read_csv(os.path.join(settings.DATA_DIR, settings.CROP_PRODUCTION_DATA), sep=\",\", header=\"infer\")\n",
    "# df1.head()\n",
    "df1['State_Name'].unique()\n",
    "# df1['District_Name'].unique()\n",
    "# df1['Crop'].unique()\n",
    "# df1['Season'].unique()\n",
    "# mean_area = np.mean(df1['Area'].unique())\n",
    "# std_area = np.std(df1['Area'].unique())\n",
    "# print(mean_area, std_area)\n"
   ]
  },
  {
   "cell_type": "code",
   "execution_count": 3,
   "metadata": {},
   "outputs": [
    {
     "data": {
      "text/html": [
       "<div>\n",
       "<style scoped>\n",
       "    .dataframe tbody tr th:only-of-type {\n",
       "        vertical-align: middle;\n",
       "    }\n",
       "\n",
       "    .dataframe tbody tr th {\n",
       "        vertical-align: top;\n",
       "    }\n",
       "\n",
       "    .dataframe thead th {\n",
       "        text-align: right;\n",
       "    }\n",
       "</style>\n",
       "<table border=\"1\" class=\"dataframe\">\n",
       "  <thead>\n",
       "    <tr style=\"text-align: right;\">\n",
       "      <th></th>\n",
       "      <th>State</th>\n",
       "      <th>District</th>\n",
       "      <th>Year</th>\n",
       "      <th>Season</th>\n",
       "      <th>Crop</th>\n",
       "      <th>Area</th>\n",
       "      <th>Production</th>\n",
       "    </tr>\n",
       "  </thead>\n",
       "  <tbody>\n",
       "    <tr>\n",
       "      <th>0</th>\n",
       "      <td>Andaman and Nicobar Islands</td>\n",
       "      <td>NICOBARS</td>\n",
       "      <td>2000</td>\n",
       "      <td>Kharif</td>\n",
       "      <td>Arecanut</td>\n",
       "      <td>1254.0</td>\n",
       "      <td>2000.0</td>\n",
       "    </tr>\n",
       "    <tr>\n",
       "      <th>1</th>\n",
       "      <td>Andaman and Nicobar Islands</td>\n",
       "      <td>NICOBARS</td>\n",
       "      <td>2000</td>\n",
       "      <td>Kharif</td>\n",
       "      <td>Other Kharif pulses</td>\n",
       "      <td>2.0</td>\n",
       "      <td>1.0</td>\n",
       "    </tr>\n",
       "  </tbody>\n",
       "</table>\n",
       "</div>"
      ],
      "text/plain": [
       "                         State  District  Year       Season  \\\n",
       "0  Andaman and Nicobar Islands  NICOBARS  2000  Kharif        \n",
       "1  Andaman and Nicobar Islands  NICOBARS  2000  Kharif        \n",
       "\n",
       "                  Crop    Area  Production  \n",
       "0             Arecanut  1254.0      2000.0  \n",
       "1  Other Kharif pulses     2.0         1.0  "
      ]
     },
     "execution_count": 3,
     "metadata": {},
     "output_type": "execute_result"
    }
   ],
   "source": [
    "# renaming columns\n",
    "df1.rename(columns={'State_Name': 'State', 'District_Name': 'District', 'Crop_Year': 'Year'}, inplace=True)\n",
    "df1.head(2)"
   ]
  },
  {
   "cell_type": "code",
   "execution_count": 4,
   "metadata": {},
   "outputs": [],
   "source": [
    "subdivision_districts = { 'GANGETIC WEST BENGAL' : ['bankura', 'paschim bardhaman', 'purba bardhaman', 'birbhum', 'purulia', 'murshidabad', \n",
    "                                  'nadia', 'west midnapore', 'jhargram', 'east midnapore', 'hooghly', 'howrah', 'kolkata', \n",
    "                                  'north 24 parganas', 'south 24 parganas'],\n",
    "       \n",
    "        'EAST UTTAR PRADESH' : ['bahraich', 'gonda', 'basti', 'gorakhpur', 'deoria', 'ballia', 'azamgarh', 'faizabad', \n",
    "                                'sultanpur', 'jaunpur', 'ghazipur', 'varanasi', 'mirzapur', 'allahabad', 'pratapgarh', \n",
    "                                'sant kabir nagar', 'barabanki', 'ambedkar nagar', 'mahrajganj', 'kushi nagar', 'chandauli',\n",
    "                                'balrampur', 'sant ravi das nagar', 'kaushambi', 'mau', 'deoria', 'shravasti', 'gorakhpur'],\n",
    "       'WEST UTTAR PRADESH' : ['meerut', 'bulandshahr', 'gautam buddha nagar', 'ghaziabad', 'hapur', 'baghpat', 'saharanpur', \n",
    "                               'muzaffarnagar', 'shamli', 'moradabad', 'bijnor', 'rampur', 'amroha', 'sambhal', 'bareilly', \n",
    "                               'badaun', 'pilibhit', 'shahjahanpur', 'agra', 'firozabad', 'mainpuri', 'mathura', 'aligarh', \n",
    "                               'etah', 'hathras', 'kasganj', 'etawah', 'auraiya', 'farrukhabad'],  \n",
    "        \n",
    "        'WEST RAJASTHAN': ['hanumangarh', 'sriganganagar', 'bikaner', 'jaisalmer', 'barmer', 'jalore', 'sirohi', 'pali', \n",
    "                           'jodhpur', 'nagaur', 'churu', 'sikar', 'jhunjhunu', 'ganganagar', 'morena', 'sheopur', 'bhind'], \n",
    "        'EAST RAJASTHAN' : ['tonk', 'bundi', 'ajmer', 'sawai madhopur', 'bhilwara', 'chittorgarh', 'kota', 'bharatpur'\n",
    "                           'jaipur', 'rajsamand', 'udaipur', 'alwa', 'dungarpur', 'baran', 'dholpur', 'bhilwara', 'dausa',\n",
    "                           'jhalawar','karauh'],\n",
    "        'WEST MADHYA PRADESH': ['alirajpur', 'barwani', 'burhanpur', 'indore', 'dhar', 'jhabua', 'khandwa', 'khargone', \n",
    "                               'agar malwa', 'dewas', 'mandsaur', 'neemuch', 'ratlam', 'shajapur', 'ujjain','gwalior', \n",
    "                               'ashoknagar', 'shivpuri', 'datia', 'guna', 'betul', 'harda', 'narmadapuram', 'bhopal', \n",
    "                              'raisen', 'rajgarh', 'sehore', 'vidisha', 'morena', 'sheopur', 'bhind'], \n",
    "        'EAST MADHYA PRADESH' : ['rewa', 'satna', 'sidhi', 'singrauli', 'chhatarpur', 'damoh', 'panna', 'sagar', 'tikamgarh',\n",
    "                                 'niwari', 'anuppur', 'shahdol','umaria', 'balaghat', 'chhindwara', 'jabalpur', 'katni', \n",
    "                                 'mandla', 'narsinghpur', 'seoni', 'dindori'], \n",
    "        'GUJARAT REGION' : ['ahmedabad', 'anand', 'bharuch', 'chhota udaipur', 'dahod', 'kheda', 'mahisagar', 'panchmahal',\n",
    "                            'dang', 'navsari', 'surat', 'narmada', 'bharuch', 'vadodara', 'tapi', 'valsad'],\n",
    "        'SAURASHTRA AND KUTCH' : ['kutch', 'devbhoomi dwarka', 'jamnagar', 'morbi', 'rajkot', 'porbandar', 'junagadh', 'gir somnath', 'amreli', 'bhavnagar', 'botad', 'surendranagar'], \n",
    "        'KONKAN AND GOA' : ['Palghar', 'Thane', 'Mumbai Suburban', 'Mumbai City', 'Raigad', 'Ratnagiri', 'Sindhudurg'], \n",
    "        'MADHYA MAHARASHTRA' : ['ahmednagar', 'dhule', 'jalgaon', 'kolhapur', 'nandurbar', 'nashik', 'pune', 'sangli',\n",
    "                                'satara', 'solapur'],\n",
    "        'MATATHWADA':['Aurangabad', 'beed', 'jalna', 'parbhani', 'osmanabad', 'latur', 'nanded', 'hingoli'], \n",
    "        'VIDARBHA' : ['buldhana', 'akola', 'washim', 'amaravati', 'yavatmal', 'wardha', 'nagpur', 'chandrapur', 'gadchiroli',\n",
    "                     'gondia', 'bhandara'], \n",
    "        \n",
    "        'COASTAL ANDHRA PRADESH' : ['srikakulam', 'vizianagaram', 'vishakhapatnam', 'eastgodavari', 'westgodavari', \n",
    "                                    'machilipatnam', 'guntur', 'prakasam', 'sandhi', 'nellore'],\n",
    "       \n",
    "        'RAYALSEEMA' : ['anantapur', 'chittoor', 'kadapa', 'kurnool'], \n",
    "        \n",
    "        'COASTAL KARNATAKA' : [ 'dakshina kannada', 'udupi', 'uttara kannada'],\n",
    "        'NORTH INTERIOR KARNATAKA' : ['belgaum', 'bidar', 'bijapur', 'bagalkot', 'haveri', 'gadag', 'dharwad', 'gulbarga',\n",
    "                                     'koppal', 'bellary', 'raichur'], \n",
    "        'SOUTH INTERIOR KARNATAKA' : ['bangalorerural', 'bangaloreurban', 'bellary', 'chikmagalur', 'chitradurga', 'kodagu',\n",
    "                                      'hassan', 'kolar', 'mysore', 'chamrajnagar', 'shimoga', 'tumkur'], \n",
    "        }"
   ]
  },
  {
   "cell_type": "code",
   "execution_count": 5,
   "metadata": {},
   "outputs": [],
   "source": [
    "states = {\n",
    "        'ANDAMAN AND NICOBAR ISLANDS' : ['ANDAMAN AND NICOBAR ISLANDS'], \n",
    "        'ARUNACHAL PRADESH' : ['ARUNACHAL PRADESH'],\n",
    "        'ASSAM AND MEGHALAYA' : ['ASSAM', 'MEGHALAYA'],\n",
    "        'SUB HIMALAYAN WEST BENGAL AND SIKKIM' : ['SIKKIM'],\n",
    "        'ORISSA' : ['ODISHA'],\n",
    "        'JHARKHAND':['JHARKHAND'], \n",
    "        'BIHAR':['BIHAR'],\n",
    "        'PUNJAB' :['PUNJAB'], \n",
    "        'HIMACHAL PRADESH':['HIMACHAL PRADESH'],\n",
    "        'JAMMU AND KASHMIR' :['JAMMU AND KASHMIR'], \n",
    "        'CHHATTISGARH': ['CHHATTISGARH'], \n",
    "        'TELANGANA': ['TELANGANA'],\n",
    "        'TAMIL NADU': ['TAMIL NADU'], \n",
    "        'KERALA': ['KERALA'],\n",
    "        'LAKSHADWEEP':['LAKSHADWEEP'],  \n",
    "        'UTTARAKHAND' : ['UTTARAKHAND'],\n",
    "        'HARYANA DELHI AND CHANDIGARH' : ['HARYANA', 'DELHI', 'CHANDIGARH'],\n",
    "        'KONKAN AND GOA' : ['GOA']}"
   ]
  },
  {
   "cell_type": "code",
   "execution_count": null,
   "metadata": {},
   "outputs": [],
   "source": []
  },
  {
   "cell_type": "code",
   "execution_count": 6,
   "metadata": {},
   "outputs": [],
   "source": [
    "def add_column(x, states, subdivision_districts):\n",
    "    district = x[1]\n",
    "    state = x[0]\n",
    "    for key in subdivision_districts:\n",
    "        if district.lower() in subdivision_districts[key] :\n",
    "            return key.upper()\n",
    "    for key in states:\n",
    "        if state.upper() in states[key] :\n",
    "            return key.upper()\n",
    "    "
   ]
  },
  {
   "cell_type": "code",
   "execution_count": 7,
   "metadata": {},
   "outputs": [
    {
     "data": {
      "text/html": [
       "<div>\n",
       "<style scoped>\n",
       "    .dataframe tbody tr th:only-of-type {\n",
       "        vertical-align: middle;\n",
       "    }\n",
       "\n",
       "    .dataframe tbody tr th {\n",
       "        vertical-align: top;\n",
       "    }\n",
       "\n",
       "    .dataframe thead th {\n",
       "        text-align: right;\n",
       "    }\n",
       "</style>\n",
       "<table border=\"1\" class=\"dataframe\">\n",
       "  <thead>\n",
       "    <tr style=\"text-align: right;\">\n",
       "      <th></th>\n",
       "      <th>State</th>\n",
       "      <th>District</th>\n",
       "      <th>Year</th>\n",
       "      <th>Season</th>\n",
       "      <th>Crop</th>\n",
       "      <th>Area</th>\n",
       "      <th>Production</th>\n",
       "      <th>Subdivision</th>\n",
       "    </tr>\n",
       "  </thead>\n",
       "  <tbody>\n",
       "    <tr>\n",
       "      <th>0</th>\n",
       "      <td>Andaman and Nicobar Islands</td>\n",
       "      <td>NICOBARS</td>\n",
       "      <td>2000</td>\n",
       "      <td>Kharif</td>\n",
       "      <td>Arecanut</td>\n",
       "      <td>1254.0</td>\n",
       "      <td>2000.0</td>\n",
       "      <td>ANDAMAN AND NICOBAR ISLANDS</td>\n",
       "    </tr>\n",
       "    <tr>\n",
       "      <th>1</th>\n",
       "      <td>Andaman and Nicobar Islands</td>\n",
       "      <td>NICOBARS</td>\n",
       "      <td>2000</td>\n",
       "      <td>Kharif</td>\n",
       "      <td>Other Kharif pulses</td>\n",
       "      <td>2.0</td>\n",
       "      <td>1.0</td>\n",
       "      <td>ANDAMAN AND NICOBAR ISLANDS</td>\n",
       "    </tr>\n",
       "    <tr>\n",
       "      <th>2</th>\n",
       "      <td>Andaman and Nicobar Islands</td>\n",
       "      <td>NICOBARS</td>\n",
       "      <td>2000</td>\n",
       "      <td>Kharif</td>\n",
       "      <td>Rice</td>\n",
       "      <td>102.0</td>\n",
       "      <td>321.0</td>\n",
       "      <td>ANDAMAN AND NICOBAR ISLANDS</td>\n",
       "    </tr>\n",
       "    <tr>\n",
       "      <th>3</th>\n",
       "      <td>Andaman and Nicobar Islands</td>\n",
       "      <td>NICOBARS</td>\n",
       "      <td>2000</td>\n",
       "      <td>Whole Year</td>\n",
       "      <td>Banana</td>\n",
       "      <td>176.0</td>\n",
       "      <td>641.0</td>\n",
       "      <td>ANDAMAN AND NICOBAR ISLANDS</td>\n",
       "    </tr>\n",
       "    <tr>\n",
       "      <th>4</th>\n",
       "      <td>Andaman and Nicobar Islands</td>\n",
       "      <td>NICOBARS</td>\n",
       "      <td>2000</td>\n",
       "      <td>Whole Year</td>\n",
       "      <td>Cashewnut</td>\n",
       "      <td>720.0</td>\n",
       "      <td>165.0</td>\n",
       "      <td>ANDAMAN AND NICOBAR ISLANDS</td>\n",
       "    </tr>\n",
       "  </tbody>\n",
       "</table>\n",
       "</div>"
      ],
      "text/plain": [
       "                         State  District  Year       Season  \\\n",
       "0  Andaman and Nicobar Islands  NICOBARS  2000  Kharif        \n",
       "1  Andaman and Nicobar Islands  NICOBARS  2000  Kharif        \n",
       "2  Andaman and Nicobar Islands  NICOBARS  2000  Kharif        \n",
       "3  Andaman and Nicobar Islands  NICOBARS  2000  Whole Year    \n",
       "4  Andaman and Nicobar Islands  NICOBARS  2000  Whole Year    \n",
       "\n",
       "                  Crop    Area  Production                  Subdivision  \n",
       "0             Arecanut  1254.0      2000.0  ANDAMAN AND NICOBAR ISLANDS  \n",
       "1  Other Kharif pulses     2.0         1.0  ANDAMAN AND NICOBAR ISLANDS  \n",
       "2                 Rice   102.0       321.0  ANDAMAN AND NICOBAR ISLANDS  \n",
       "3               Banana   176.0       641.0  ANDAMAN AND NICOBAR ISLANDS  \n",
       "4            Cashewnut   720.0       165.0  ANDAMAN AND NICOBAR ISLANDS  "
      ]
     },
     "execution_count": 7,
     "metadata": {},
     "output_type": "execute_result"
    }
   ],
   "source": [
    "df1['Subdivision'] = df1.apply(lambda x : add_column(x, states, subdivision_districts), axis=1 )\n",
    "df1.head()"
   ]
  },
  {
   "cell_type": "code",
   "execution_count": 10,
   "metadata": {},
   "outputs": [
    {
     "name": "stdout",
     "output_type": "stream",
     "text": [
      "['AGRA' 'ALIGARH' 'ALLAHABAD' 'AMBEDKAR NAGAR' 'AMETHI' 'AMROHA' 'AURAIYA'\n",
      " 'AZAMGARH' 'BAGHPAT' 'BAHRAICH' 'BALLIA' 'BALRAMPUR' 'BANDA' 'BARABANKI'\n",
      " 'BAREILLY' 'BASTI' 'BIJNOR' 'BUDAUN' 'BULANDSHAHR' 'CHANDAULI'\n",
      " 'CHITRAKOOT' 'DEORIA' 'ETAH' 'ETAWAH' 'FAIZABAD' 'FARRUKHABAD' 'FATEHPUR'\n",
      " 'FIROZABAD' 'GAUTAM BUDDHA NAGAR' 'GHAZIABAD' 'GHAZIPUR' 'GONDA'\n",
      " 'GORAKHPUR' 'HAMIRPUR' 'HAPUR' 'HARDOI' 'HATHRAS' 'JALAUN' 'JAUNPUR'\n",
      " 'JHANSI' 'KANNAUJ' 'KANPUR DEHAT' 'KANPUR NAGAR' 'KASGANJ' 'KAUSHAMBI'\n",
      " 'KHERI' 'KUSHI NAGAR' 'LALITPUR' 'LUCKNOW' 'MAHARAJGANJ' 'MAHOBA'\n",
      " 'MAINPURI' 'MATHURA' 'MAU' 'MEERUT' 'MIRZAPUR' 'MORADABAD'\n",
      " 'MUZAFFARNAGAR' 'PILIBHIT' 'PRATAPGARH' 'RAE BARELI' 'RAMPUR'\n",
      " 'SAHARANPUR' 'SAMBHAL' 'SANT KABEER NAGAR' 'SANT RAVIDAS NAGAR'\n",
      " 'SHAHJAHANPUR' 'SHAMLI' 'SHRAVASTI' 'SIDDHARTH NAGAR' 'SITAPUR'\n",
      " 'SONBHADRA' 'SULTANPUR' 'UNNAO' 'VARANASI']\n"
     ]
    }
   ],
   "source": [
    "print(df1[df1['State'] == 'Uttar Pradesh']['District'].unique())"
   ]
  },
  {
   "cell_type": "code",
   "execution_count": 21,
   "metadata": {},
   "outputs": [],
   "source": [
    "uttar_pradesh_districts = ['AGRA', 'ALIGARH', 'ALLAHABAD', 'AMBEDKAR NAGAR', 'AMETHI', 'AMROHA', 'AURAIYA',\n",
    " 'AZAMGARH', 'BAGHPAT', 'BAHRAICH', 'BALLIA', 'BALRAMPUR', 'BANDA', 'BARABANKI',\n",
    " 'BAREILLY', 'BASTI', 'BIJNOR', 'BUDAUN', 'BULANDSHAHR', 'CHANDAULI',\n",
    " 'CHITRAKOOT', 'DEORIA', 'ETAH', 'ETAWAH', 'FAIZABAD', 'FARRUKHABAD', 'FATEHPUR',\n",
    " 'FIROZABAD', 'GAUTAM BUDDHA NAGAR', 'GHAZIABAD', 'GHAZIPUR', 'GONDA',\n",
    " 'GORAKHPUR', 'HAMIRPUR', 'HAPUR', 'HARDOI', 'HATHRAS', 'JALAUN', 'JAUNPUR', \n",
    " 'JHANSI', 'KANNAUJ', 'KANPUR DEHAT', 'KANPUR NAGAR', 'KASGANJ', 'KAUSHAMBI',\n",
    " 'KHERI', 'KUSHI NAGAR', 'LALITPUR', 'LUCKNOW', 'MAHARAJGANJ', 'MAHOBA',\n",
    " 'MAINPURI', 'MATHURA', 'MAU', 'MEERUT', 'MIRZAPUR', 'MORADABAD',\n",
    " 'MUZAFFARNAGAR', 'PILIBHIT', 'PRATAPGARH', 'RAE BARELI', 'RAMPUR',\n",
    " 'SAHARANPUR', 'SAMBHAL', 'SANT KABEER NAGAR', 'SANT RAVIDAS NAGAR',\n",
    " 'SHAHJAHANPUR', 'SHAMLI', 'SHRAVASTI', 'SIDDHARTH NAGAR', 'SITAPUR',\n",
    " 'SONBHADRA', 'SULTANPUR', 'UNNAO', 'VARANASI']"
   ]
  },
  {
   "cell_type": "code",
   "execution_count": 23,
   "metadata": {},
   "outputs": [
    {
     "name": "stdout",
     "output_type": "stream",
     "text": [
      "['ALLAHABAD', 'AMBEDKAR NAGAR', 'AZAMGARH', 'BAHRAICH', 'BALLIA', 'BALRAMPUR', 'BARABANKI', 'BASTI', 'CHANDAULI', 'DEORIA', 'FAIZABAD', 'GHAZIPUR', 'GONDA', 'GORAKHPUR', 'JAUNPUR', 'KAUSHAMBI', 'KUSHI NAGAR', 'MAU', 'MIRZAPUR', 'PRATAPGARH', 'SHRAVASTI', 'SULTANPUR', 'VARANASI']\n",
      "['AGRA', 'ALIGARH', 'AMROHA', 'AURAIYA', 'BAGHPAT', 'BAREILLY', 'BIJNOR', 'BULANDSHAHR', 'ETAH', 'ETAWAH', 'FARRUKHABAD', 'FIROZABAD', 'GAUTAM BUDDHA NAGAR', 'GHAZIABAD', 'HAPUR', 'HATHRAS', 'KASGANJ', 'MAINPURI', 'MATHURA', 'MEERUT', 'MORADABAD', 'MUZAFFARNAGAR', 'PILIBHIT', 'RAMPUR', 'SAHARANPUR', 'SAMBHAL', 'SHAHJAHANPUR', 'SHAMLI']\n",
      "['AMETHI', 'BANDA', 'BUDAUN', 'CHITRAKOOT', 'FATEHPUR', 'HAMIRPUR', 'HARDOI', 'JALAUN', 'JHANSI', 'KANNAUJ', 'KANPUR DEHAT', 'KANPUR NAGAR', 'KHERI', 'LALITPUR', 'LUCKNOW', 'MAHARAJGANJ', 'MAHOBA', 'RAE BARELI', 'SANT KABEER NAGAR', 'SANT RAVIDAS NAGAR', 'SIDDHARTH NAGAR', 'SITAPUR', 'SONBHADRA', 'UNNAO']\n"
     ]
    }
   ],
   "source": [
    "east_uttar_pradesh_districts = []\n",
    "west_uttar_pradesh_districts = []\n",
    "missing = []\n",
    "\n",
    "for district in uttar_pradesh_districts:\n",
    "    if district.lower() in subdivision_districts['EAST UTTAR PRADESH']:\n",
    "        east_uttar_pradesh_districts.append(district)\n",
    "    elif district.lower() in subdivision_districts['WEST UTTAR PRADESH']:\n",
    "        west_uttar_pradesh_districts.append(district)\n",
    "    else:\n",
    "        missing.append(district)\n",
    "print(east_uttar_pradesh_districts)\n",
    "print(west_uttar_pradesh_districts)\n",
    "print(missing)"
   ]
  },
  {
   "cell_type": "code",
   "execution_count": 24,
   "metadata": {},
   "outputs": [
    {
     "name": "stdout",
     "output_type": "stream",
     "text": [
      "['AGAR MALWA' 'ALIRAJPUR' 'ANUPPUR' 'ASHOKNAGAR' 'BALAGHAT' 'BARWANI'\n",
      " 'BETUL' 'BHIND' 'BHOPAL' 'BURHANPUR' 'CHHATARPUR' 'CHHINDWARA' 'DAMOH'\n",
      " 'DATIA' 'DEWAS' 'DHAR' 'DINDORI' 'GUNA' 'GWALIOR' 'HARDA' 'HOSHANGABAD'\n",
      " 'INDORE' 'JABALPUR' 'JHABUA' 'KATNI' 'KHANDWA' 'KHARGONE' 'MANDLA'\n",
      " 'MANDSAUR' 'MORENA' 'NARSINGHPUR' 'NEEMUCH' 'PANNA' 'RAISEN' 'RAJGARH'\n",
      " 'RATLAM' 'REWA' 'SAGAR' 'SATNA' 'SEHORE' 'SEONI' 'SHAHDOL' 'SHAJAPUR'\n",
      " 'SHEOPUR' 'SHIVPURI' 'SIDHI' 'SINGRAULI' 'TIKAMGARH' 'UJJAIN' 'UMARIA'\n",
      " 'VIDISHA']\n"
     ]
    }
   ],
   "source": [
    "print(df1[df1['State'] == 'Madhya Pradesh']['District'].unique())"
   ]
  },
  {
   "cell_type": "code",
   "execution_count": 28,
   "metadata": {},
   "outputs": [],
   "source": [
    "madhya_pradesh_districts = ['AGAR MALWA', 'ALIRAJPUR', 'ANUPPUR', 'ASHOKNAGAR', 'BALAGHAT', 'BARWANI',\n",
    " 'BETUL', 'BHIND', 'BHOPAL', 'BURHANPUR', 'CHHATARPUR', 'CHHINDWARA', 'DAMOH',\n",
    " 'DATIA', 'DEWAS', 'DHAR', 'DINDORI', 'GUNA', 'GWALIOR', 'HARDA', 'HOSHANGABAD',\n",
    " 'INDORE', 'JABALPUR', 'JHABUA', 'KATNI', 'KHANDWA', 'KHARGONE', 'MANDLA',\n",
    " 'MANDSAUR', 'MORENA', 'NARSINGHPUR', 'NEEMUCH', 'PANNA', 'RAISEN', 'RAJGARH',\n",
    " 'RATLAM', 'REWA', 'SAGAR', 'SATNA', 'SEHORE', 'SEONI', 'SHAHDOL', 'SHAJAPUR',\n",
    " 'SHEOPUR', 'SHIVPURI', 'SIDHI', 'SINGRAULI', 'TIKAMGARH', 'UJJAIN', 'UMARIA',\n",
    " 'VIDISHA']"
   ]
  },
  {
   "cell_type": "code",
   "execution_count": 30,
   "metadata": {},
   "outputs": [
    {
     "name": "stdout",
     "output_type": "stream",
     "text": [
      "['ANUPPUR', 'BALAGHAT', 'CHHATARPUR', 'CHHINDWARA', 'DAMOH', 'DINDORI', 'JABALPUR', 'KATNI', 'MANDLA', 'NARSINGHPUR', 'PANNA', 'REWA', 'SAGAR', 'SATNA', 'SEONI', 'SHAHDOL', 'SIDHI', 'SINGRAULI', 'TIKAMGARH', 'UMARIA']\n",
      "['AGAR MALWA', 'ALIRAJPUR', 'ASHOKNAGAR', 'BARWANI', 'BETUL', 'BHIND', 'BHOPAL', 'BURHANPUR', 'DATIA', 'DEWAS', 'DHAR', 'GUNA', 'GWALIOR', 'HARDA', 'INDORE', 'JHABUA', 'KHANDWA', 'KHARGONE', 'MANDSAUR', 'MORENA', 'NEEMUCH', 'RAISEN', 'RAJGARH', 'RATLAM', 'SEHORE', 'SHAJAPUR', 'SHEOPUR', 'SHIVPURI', 'UJJAIN', 'VIDISHA']\n",
      "['HOSHANGABAD']\n"
     ]
    }
   ],
   "source": [
    "east_madhya_pradesh_districts = []\n",
    "west_madhya_pradesh_districts = []\n",
    "madhya_pradesh_missing = []\n",
    "\n",
    "for district in madhya_pradesh_districts:\n",
    "    if district.lower() in subdivision_districts['EAST MADHYA PRADESH']:\n",
    "        east_madhya_pradesh_districts.append(district)\n",
    "    elif district.lower() in subdivision_districts['WEST MADHYA PRADESH']:\n",
    "        west_madhya_pradesh_districts.append(district)\n",
    "    else:\n",
    "        madhya_pradesh_missing.append(district)\n",
    "print(east_madhya_pradesh_districts)\n",
    "print(west_madhya_pradesh_districts)\n",
    "print(madhya_pradesh_missing)"
   ]
  },
  {
   "cell_type": "code",
   "execution_count": 31,
   "metadata": {},
   "outputs": [
    {
     "name": "stdout",
     "output_type": "stream",
     "text": [
      "['AJMER' 'ALWAR' 'BANSWARA' 'BARAN' 'BARMER' 'BHARATPUR' 'BHILWARA'\n",
      " 'BIKANER' 'BUNDI' 'CHITTORGARH' 'CHURU' 'DAUSA' 'DHOLPUR' 'DUNGARPUR'\n",
      " 'GANGANAGAR' 'HANUMANGARH' 'JAIPUR' 'JAISALMER' 'JALORE' 'JHALAWAR'\n",
      " 'JHUNJHUNU' 'JODHPUR' 'KARAULI' 'KOTA' 'NAGAUR' 'PALI' 'PRATAPGARH'\n",
      " 'RAJSAMAND' 'SAWAI MADHOPUR' 'SIKAR' 'SIROHI' 'TONK' 'UDAIPUR']\n"
     ]
    }
   ],
   "source": [
    "print(df1[df1['State'] == 'Rajasthan']['District'].unique())"
   ]
  },
  {
   "cell_type": "code",
   "execution_count": 32,
   "metadata": {},
   "outputs": [],
   "source": [
    "rajasthan_districts = ['AJMER', 'ALWAR', 'BANSWARA', 'BARAN', 'BARMER', 'BHARATPUR', 'BHILWARA',\n",
    " 'BIKANER', 'BUNDI', 'CHITTORGARH', 'CHURU', 'DAUSA', 'DHOLPUR', 'DUNGARPUR',\n",
    " 'GANGANAGAR', 'HANUMANGARH', 'JAIPUR', 'JAISALMER', 'JALORE', 'JHALAWAR',\n",
    " 'JHUNJHUNU', 'JODHPUR', 'KARAULI', 'KOTA', 'NAGAUR', 'PALI', 'PRATAPGARH',\n",
    " 'RAJSAMAND', 'SAWAI MADHOPUR', 'SIKAR', 'SIROHI', 'TONK', 'UDAIPUR']"
   ]
  },
  {
   "cell_type": "code",
   "execution_count": 33,
   "metadata": {},
   "outputs": [
    {
     "name": "stdout",
     "output_type": "stream",
     "text": [
      "['AJMER', 'BARAN', 'BHILWARA', 'BUNDI', 'CHITTORGARH', 'DAUSA', 'DHOLPUR', 'DUNGARPUR', 'JHALAWAR', 'KOTA', 'RAJSAMAND', 'SAWAI MADHOPUR', 'TONK', 'UDAIPUR']\n",
      "['BARMER', 'BIKANER', 'CHURU', 'GANGANAGAR', 'HANUMANGARH', 'JAISALMER', 'JALORE', 'JHUNJHUNU', 'JODHPUR', 'NAGAUR', 'PALI', 'SIKAR', 'SIROHI']\n",
      "['ALWAR', 'BANSWARA', 'BHARATPUR', 'JAIPUR', 'KARAULI', 'PRATAPGARH']\n"
     ]
    }
   ],
   "source": [
    "east_rajasthan_districts = []\n",
    "west_rajasthan_districts = []\n",
    "rajasthan_missing = []\n",
    "\n",
    "for district in rajasthan_districts:\n",
    "    if district.lower() in subdivision_districts['EAST RAJASTHAN']:\n",
    "        east_rajasthan_districts.append(district)\n",
    "    elif district.lower() in subdivision_districts['WEST RAJASTHAN']:\n",
    "        west_rajasthan_districts.append(district)\n",
    "    else:\n",
    "        rajasthan_missing.append(district)\n",
    "print(east_rajasthan_districts)\n",
    "print(west_rajasthan_districts)\n",
    "print(rajasthan_missing)\n"
   ]
  },
  {
   "cell_type": "code",
   "execution_count": 34,
   "metadata": {},
   "outputs": [
    {
     "name": "stdout",
     "output_type": "stream",
     "text": [
      "['BAGALKOT' 'BANGALORE RURAL' 'BELGAUM' 'BELLARY' 'BENGALURU URBAN'\n",
      " 'BIDAR' 'BIJAPUR' 'CHAMARAJANAGAR' 'CHIKBALLAPUR' 'CHIKMAGALUR'\n",
      " 'CHITRADURGA' 'DAKSHIN KANNAD' 'DAVANGERE' 'DHARWAD' 'GADAG' 'GULBARGA'\n",
      " 'HASSAN' 'HAVERI' 'KODAGU' 'KOLAR' 'KOPPAL' 'MANDYA' 'MYSORE' 'RAICHUR'\n",
      " 'RAMANAGARA' 'SHIMOGA' 'TUMKUR' 'UDUPI' 'UTTAR KANNAD' 'YADGIR']\n"
     ]
    }
   ],
   "source": [
    "print(df1[df1['State'] == 'Karnataka']['District'].unique())"
   ]
  },
  {
   "cell_type": "code",
   "execution_count": 37,
   "metadata": {},
   "outputs": [],
   "source": [
    "karnataka_districts = ['BAGALKOT', 'BANGALORE RURAL', 'BELGAUM', 'BELLARY', 'BENGALURU URBAN',\n",
    " 'BIDAR', 'BIJAPUR', 'CHAMARAJANAGAR', 'CHIKBALLAPUR', 'CHIKMAGALUR',\n",
    " 'CHITRADURGA', 'DAKSHIN KANNAD', 'DAVANGERE', 'DHARWAD', 'GADAG', 'GULBARGA',\n",
    " 'HASSAN', 'HAVERI', 'KODAGU', 'KOLAR', 'KOPPAL', 'MANDYA', 'MYSORE', 'RAICHUR',\n",
    " 'RAMANAGARA', 'SHIMOGA', 'TUMKUR', 'UDUPI', 'UTTAR KANNAD', 'YADGIR']"
   ]
  },
  {
   "cell_type": "code",
   "execution_count": 39,
   "metadata": {},
   "outputs": [
    {
     "name": "stdout",
     "output_type": "stream",
     "text": [
      "['UDUPI']\n",
      "['BAGALKOT', 'BELGAUM', 'BELLARY', 'BIDAR', 'BIJAPUR', 'DHARWAD', 'GADAG', 'GULBARGA', 'HAVERI', 'KOPPAL', 'RAICHUR']\n",
      "['CHIKMAGALUR', 'CHITRADURGA', 'HASSAN', 'KODAGU', 'KOLAR', 'MYSORE', 'SHIMOGA', 'TUMKUR']\n",
      "['BANGALORE RURAL', 'BENGALURU URBAN', 'CHAMARAJANAGAR', 'CHIKBALLAPUR', 'DAKSHIN KANNAD', 'DAVANGERE', 'MANDYA', 'RAMANAGARA', 'UTTAR KANNAD', 'YADGIR']\n"
     ]
    }
   ],
   "source": [
    "coastal_karnataka_districts = []\n",
    "north_interior_karnataka_districts = []\n",
    "south_interior_karnataka_districts = []\n",
    "karnataka_missing = []\n",
    "\n",
    "for district in karnataka_districts:\n",
    "    if district.lower() in subdivision_districts['COASTAL KARNATAKA']:\n",
    "        coastal_karnataka_districts.append(district)\n",
    "    elif district.lower() in subdivision_districts['NORTH INTERIOR KARNATAKA']:\n",
    "        north_interior_karnataka_districts.append(district)\n",
    "    elif district.lower() in subdivision_districts['SOUTH INTERIOR KARNATAKA']:\n",
    "        south_interior_karnataka_districts.append(district)\n",
    "    else:\n",
    "        karnataka_missing.append(district)\n",
    "        \n",
    "print(coastal_karnataka_districts)\n",
    "print(north_interior_karnataka_districts)\n",
    "print(south_interior_karnataka_districts)\n",
    "print(karnataka_missing)"
   ]
  },
  {
   "cell_type": "code",
   "execution_count": null,
   "metadata": {},
   "outputs": [],
   "source": []
  }
 ],
 "metadata": {
  "kernelspec": {
   "display_name": "Python 3 (ipykernel)",
   "language": "python",
   "name": "python3"
  },
  "language_info": {
   "codemirror_mode": {
    "name": "ipython",
    "version": 3
   },
   "file_extension": ".py",
   "mimetype": "text/x-python",
   "name": "python",
   "nbconvert_exporter": "python",
   "pygments_lexer": "ipython3",
   "version": "3.8.10"
  }
 },
 "nbformat": 4,
 "nbformat_minor": 2
}
